{
 "cells": [
  {
   "cell_type": "markdown",
   "metadata": {},
   "source": [
    "# TPC2: Lark "
   ]
  },
  {
   "cell_type": "code",
   "execution_count": 1,
   "metadata": {},
   "outputs": [
    {
     "name": "stdout",
     "output_type": "stream",
     "text": [
      "start\n",
      "  +\n",
      "  intervals\n",
      "    interval\n",
      "      [\n",
      "      1\n",
      "      ;\n",
      "      3\n",
      "      ]\n",
      "    interval\n",
      "      [\n",
      "      5\n",
      "      ;\n",
      "      10\n",
      "      ]\n",
      "  .\n",
      "\n"
     ]
    }
   ],
   "source": [
    "from lark import Lark, Transformer\n",
    "\n",
    "grammar_tpc2 = ''' \n",
    "// Regras Sintáticas \n",
    "start: SIG intervals PF\n",
    "intervals: (interval)+\n",
    "interval: PE NUM PV NUM PD\n",
    "\n",
    "// Regras Lexicais \n",
    "NUM: /[0-9]+/\n",
    "PE: \"[\"\n",
    "PD: \"]\"\n",
    "PV: \";\"\n",
    "PF: \".\"\n",
    "SIG: \"+\"|\"-\" \n",
    "\n",
    "// Tratamento dos espaços em branco\n",
    "%import common.WS\n",
    "%ignore WS\n",
    "'''\n",
    "\n",
    "   \n",
    "def SIG(self, token): \n",
    "        sinal = token.value\n",
    "        if sinal == '+':\n",
    "            print(\"Sinal é positivo\")\n",
    "            self.sentido = '+'\n",
    "        elif sinal == '-':\n",
    "            print(\"Sinal é negativo\")\n",
    "            self.sentido = '-'\n",
    "        return sinal\n",
    "\n",
    "def NUM(self, token): \n",
    "        return int(token.value)\n",
    "\n",
    "def PF(self, token):\n",
    "        return token.value\n",
    "\n",
    "def PE(self, token):\n",
    "        return token.value\n",
    "\n",
    "def PD(self, token):\n",
    "        return token.value\n",
    "\n",
    "def PV(self, token):\n",
    "        return token.value\n",
    "\n",
    "frase = \"+[1;3][5;10].\"\n",
    "p = Lark(grammar_tpc2)\n",
    "\n",
    "tree = p.parse(frase)\n",
    "print(tree.pretty())\n",
    "\n",
    "\n"
   ]
  }
 ],
 "metadata": {
  "kernelspec": {
   "display_name": "base",
   "language": "python",
   "name": "python3"
  },
  "language_info": {
   "codemirror_mode": {
    "name": "ipython",
    "version": 3
   },
   "file_extension": ".py",
   "mimetype": "text/x-python",
   "name": "python",
   "nbconvert_exporter": "python",
   "pygments_lexer": "ipython3",
   "version": "3.12.2"
  }
 },
 "nbformat": 4,
 "nbformat_minor": 2
}
